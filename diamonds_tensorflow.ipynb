{
  "nbformat": 4,
  "nbformat_minor": 0,
  "metadata": {
    "colab": {
      "provenance": [],
      "authorship_tag": "ABX9TyPD1sVArB9O6/PqM8lUQ4eQ",
      "include_colab_link": true
    },
    "kernelspec": {
      "name": "python3",
      "display_name": "Python 3"
    },
    "language_info": {
      "name": "python"
    }
  },
  "cells": [
    {
      "cell_type": "markdown",
      "metadata": {
        "id": "view-in-github",
        "colab_type": "text"
      },
      "source": [
        "<a href=\"https://colab.research.google.com/github/charlesyoo/2023-Predictive-Analytics/blob/main/diamonds_tensorflow.ipynb\" target=\"_parent\"><img src=\"https://colab.research.google.com/assets/colab-badge.svg\" alt=\"Open In Colab\"/></a>"
      ]
    },
    {
      "cell_type": "code",
      "execution_count": null,
      "metadata": {
        "id": "nF5on2hbcGw7"
      },
      "outputs": [],
      "source": [
        "import numpy as np\n",
        "import pandas as pd\n",
        "import seaborn as sns\n",
        "\n",
        "from sklearn.linear_model import LinearRegression\n",
        "from sklearn.tree import DecisionTreeRegressor\n",
        "from sklearn.ensemble import RandomForestRegressor\n",
        "from xgboost import XGBRegressor\n",
        "from sklearn.metrics import mean_squared_error, r2_score, mean_absolute_error, accuracy_score\n",
        "from math import sqrt\n",
        "from sklearn.model_selection import train_test_split\n",
        "from sklearn import metrics\n",
        "\n",
        "import pickle\n",
        "\n",
        "sns.set()"
      ]
    },
    {
      "cell_type": "code",
      "source": [
        "from tensorflow.keras.models import Sequential, load_model\n",
        "from tensorflow.keras.layers import Dense, Activation\n",
        "from tensorflow.keras.callbacks import EarlyStopping\n"
      ],
      "metadata": {
        "id": "nsCaIR6mcg5F"
      },
      "execution_count": null,
      "outputs": []
    },
    {
      "cell_type": "code",
      "source": [
        "data = pd.read_csv('https://raw.githubusercontent.com/charlesyoo/ML-Data/main/diamonds.csv')"
      ],
      "metadata": {
        "id": "2a-8v6BTcg2W"
      },
      "execution_count": null,
      "outputs": []
    },
    {
      "cell_type": "code",
      "source": [
        "#Mapping the cut column\n",
        "\n",
        "cut_mapping = {'Ideal': 5, 'Premium': 4, 'Very Good': 3, 'Good': 2, 'Fair': 1}"
      ],
      "metadata": {
        "id": "YtXqYpBPcgzj"
      },
      "execution_count": null,
      "outputs": []
    },
    {
      "cell_type": "code",
      "source": [
        "data['cut_numeric'] = data['cut'].map(cut_mapping)"
      ],
      "metadata": {
        "id": "9KBrGsz7cgwm"
      },
      "execution_count": null,
      "outputs": []
    },
    {
      "cell_type": "code",
      "source": [
        "#creating clarity mapping\n",
        "\n",
        "clarity_mapping = {'IF': 8, 'VVS1': 7, 'VVS2': 6, 'VS1': 5, 'VS2': 4, 'SI1': 3, 'SI2': 2, 'I1': 1}"
      ],
      "metadata": {
        "id": "iHvWLy0scgtx"
      },
      "execution_count": null,
      "outputs": []
    },
    {
      "cell_type": "code",
      "source": [
        "data['clarity_numeric'] = data['clarity'].map(clarity_mapping)"
      ],
      "metadata": {
        "id": "Ol3oNQBTdCCL"
      },
      "execution_count": null,
      "outputs": []
    },
    {
      "cell_type": "code",
      "source": [
        "# creating color mapping\n",
        "\n",
        "color_mapping = {'D': 7, 'E': 6, 'F': 5, 'G': 4, 'H': 3, 'I': 2, 'J': 1}"
      ],
      "metadata": {
        "id": "_DbJCZJ4cgrB"
      },
      "execution_count": null,
      "outputs": []
    },
    {
      "cell_type": "code",
      "source": [
        "data['color_numeric'] = data['color'].map(color_mapping)"
      ],
      "metadata": {
        "id": "qPh3r2pHcgn1"
      },
      "execution_count": null,
      "outputs": []
    },
    {
      "cell_type": "code",
      "source": [
        "data.drop(columns=['color_mapping'])"
      ],
      "metadata": {
        "colab": {
          "base_uri": "https://localhost:8080/",
          "height": 321
        },
        "id": "OuM_xRrPdrA7",
        "outputId": "902c384b-4223-444b-e4e0-3e9d01ef24fc"
      },
      "execution_count": null,
      "outputs": [
        {
          "output_type": "error",
          "ename": "KeyError",
          "evalue": "ignored",
          "traceback": [
            "\u001b[0;31m---------------------------------------------------------------------------\u001b[0m",
            "\u001b[0;31mKeyError\u001b[0m                                  Traceback (most recent call last)",
            "\u001b[0;32m<ipython-input-10-f4bda295e1d3>\u001b[0m in \u001b[0;36m<cell line: 1>\u001b[0;34m()\u001b[0m\n\u001b[0;32m----> 1\u001b[0;31m \u001b[0mdata\u001b[0m\u001b[0;34m.\u001b[0m\u001b[0mdrop\u001b[0m\u001b[0;34m(\u001b[0m\u001b[0mcolumns\u001b[0m\u001b[0;34m=\u001b[0m\u001b[0;34m[\u001b[0m\u001b[0;34m'color_mapping'\u001b[0m\u001b[0;34m]\u001b[0m\u001b[0;34m)\u001b[0m\u001b[0;34m\u001b[0m\u001b[0;34m\u001b[0m\u001b[0m\n\u001b[0m",
            "\u001b[0;32m/usr/local/lib/python3.10/dist-packages/pandas/util/_decorators.py\u001b[0m in \u001b[0;36mwrapper\u001b[0;34m(*args, **kwargs)\u001b[0m\n\u001b[1;32m    329\u001b[0m                     \u001b[0mstacklevel\u001b[0m\u001b[0;34m=\u001b[0m\u001b[0mfind_stack_level\u001b[0m\u001b[0;34m(\u001b[0m\u001b[0;34m)\u001b[0m\u001b[0;34m,\u001b[0m\u001b[0;34m\u001b[0m\u001b[0;34m\u001b[0m\u001b[0m\n\u001b[1;32m    330\u001b[0m                 )\n\u001b[0;32m--> 331\u001b[0;31m             \u001b[0;32mreturn\u001b[0m \u001b[0mfunc\u001b[0m\u001b[0;34m(\u001b[0m\u001b[0;34m*\u001b[0m\u001b[0margs\u001b[0m\u001b[0;34m,\u001b[0m \u001b[0;34m**\u001b[0m\u001b[0mkwargs\u001b[0m\u001b[0;34m)\u001b[0m\u001b[0;34m\u001b[0m\u001b[0;34m\u001b[0m\u001b[0m\n\u001b[0m\u001b[1;32m    332\u001b[0m \u001b[0;34m\u001b[0m\u001b[0m\n\u001b[1;32m    333\u001b[0m         \u001b[0;31m# error: \"Callable[[VarArg(Any), KwArg(Any)], Any]\" has no\u001b[0m\u001b[0;34m\u001b[0m\u001b[0;34m\u001b[0m\u001b[0m\n",
            "\u001b[0;32m/usr/local/lib/python3.10/dist-packages/pandas/core/frame.py\u001b[0m in \u001b[0;36mdrop\u001b[0;34m(self, labels, axis, index, columns, level, inplace, errors)\u001b[0m\n\u001b[1;32m   5397\u001b[0m                 \u001b[0mweight\u001b[0m  \u001b[0;36m1.0\u001b[0m     \u001b[0;36m0.8\u001b[0m\u001b[0;34m\u001b[0m\u001b[0;34m\u001b[0m\u001b[0m\n\u001b[1;32m   5398\u001b[0m         \"\"\"\n\u001b[0;32m-> 5399\u001b[0;31m         return super().drop(\n\u001b[0m\u001b[1;32m   5400\u001b[0m             \u001b[0mlabels\u001b[0m\u001b[0;34m=\u001b[0m\u001b[0mlabels\u001b[0m\u001b[0;34m,\u001b[0m\u001b[0;34m\u001b[0m\u001b[0;34m\u001b[0m\u001b[0m\n\u001b[1;32m   5401\u001b[0m             \u001b[0maxis\u001b[0m\u001b[0;34m=\u001b[0m\u001b[0maxis\u001b[0m\u001b[0;34m,\u001b[0m\u001b[0;34m\u001b[0m\u001b[0;34m\u001b[0m\u001b[0m\n",
            "\u001b[0;32m/usr/local/lib/python3.10/dist-packages/pandas/util/_decorators.py\u001b[0m in \u001b[0;36mwrapper\u001b[0;34m(*args, **kwargs)\u001b[0m\n\u001b[1;32m    329\u001b[0m                     \u001b[0mstacklevel\u001b[0m\u001b[0;34m=\u001b[0m\u001b[0mfind_stack_level\u001b[0m\u001b[0;34m(\u001b[0m\u001b[0;34m)\u001b[0m\u001b[0;34m,\u001b[0m\u001b[0;34m\u001b[0m\u001b[0;34m\u001b[0m\u001b[0m\n\u001b[1;32m    330\u001b[0m                 )\n\u001b[0;32m--> 331\u001b[0;31m             \u001b[0;32mreturn\u001b[0m \u001b[0mfunc\u001b[0m\u001b[0;34m(\u001b[0m\u001b[0;34m*\u001b[0m\u001b[0margs\u001b[0m\u001b[0;34m,\u001b[0m \u001b[0;34m**\u001b[0m\u001b[0mkwargs\u001b[0m\u001b[0;34m)\u001b[0m\u001b[0;34m\u001b[0m\u001b[0;34m\u001b[0m\u001b[0m\n\u001b[0m\u001b[1;32m    332\u001b[0m \u001b[0;34m\u001b[0m\u001b[0m\n\u001b[1;32m    333\u001b[0m         \u001b[0;31m# error: \"Callable[[VarArg(Any), KwArg(Any)], Any]\" has no\u001b[0m\u001b[0;34m\u001b[0m\u001b[0;34m\u001b[0m\u001b[0m\n",
            "\u001b[0;32m/usr/local/lib/python3.10/dist-packages/pandas/core/generic.py\u001b[0m in \u001b[0;36mdrop\u001b[0;34m(self, labels, axis, index, columns, level, inplace, errors)\u001b[0m\n\u001b[1;32m   4503\u001b[0m         \u001b[0;32mfor\u001b[0m \u001b[0maxis\u001b[0m\u001b[0;34m,\u001b[0m \u001b[0mlabels\u001b[0m \u001b[0;32min\u001b[0m \u001b[0maxes\u001b[0m\u001b[0;34m.\u001b[0m\u001b[0mitems\u001b[0m\u001b[0;34m(\u001b[0m\u001b[0;34m)\u001b[0m\u001b[0;34m:\u001b[0m\u001b[0;34m\u001b[0m\u001b[0;34m\u001b[0m\u001b[0m\n\u001b[1;32m   4504\u001b[0m             \u001b[0;32mif\u001b[0m \u001b[0mlabels\u001b[0m \u001b[0;32mis\u001b[0m \u001b[0;32mnot\u001b[0m \u001b[0;32mNone\u001b[0m\u001b[0;34m:\u001b[0m\u001b[0;34m\u001b[0m\u001b[0;34m\u001b[0m\u001b[0m\n\u001b[0;32m-> 4505\u001b[0;31m                 \u001b[0mobj\u001b[0m \u001b[0;34m=\u001b[0m \u001b[0mobj\u001b[0m\u001b[0;34m.\u001b[0m\u001b[0m_drop_axis\u001b[0m\u001b[0;34m(\u001b[0m\u001b[0mlabels\u001b[0m\u001b[0;34m,\u001b[0m \u001b[0maxis\u001b[0m\u001b[0;34m,\u001b[0m \u001b[0mlevel\u001b[0m\u001b[0;34m=\u001b[0m\u001b[0mlevel\u001b[0m\u001b[0;34m,\u001b[0m \u001b[0merrors\u001b[0m\u001b[0;34m=\u001b[0m\u001b[0merrors\u001b[0m\u001b[0;34m)\u001b[0m\u001b[0;34m\u001b[0m\u001b[0;34m\u001b[0m\u001b[0m\n\u001b[0m\u001b[1;32m   4506\u001b[0m \u001b[0;34m\u001b[0m\u001b[0m\n\u001b[1;32m   4507\u001b[0m         \u001b[0;32mif\u001b[0m \u001b[0minplace\u001b[0m\u001b[0;34m:\u001b[0m\u001b[0;34m\u001b[0m\u001b[0;34m\u001b[0m\u001b[0m\n",
            "\u001b[0;32m/usr/local/lib/python3.10/dist-packages/pandas/core/generic.py\u001b[0m in \u001b[0;36m_drop_axis\u001b[0;34m(self, labels, axis, level, errors, only_slice)\u001b[0m\n\u001b[1;32m   4544\u001b[0m                 \u001b[0mnew_axis\u001b[0m \u001b[0;34m=\u001b[0m \u001b[0maxis\u001b[0m\u001b[0;34m.\u001b[0m\u001b[0mdrop\u001b[0m\u001b[0;34m(\u001b[0m\u001b[0mlabels\u001b[0m\u001b[0;34m,\u001b[0m \u001b[0mlevel\u001b[0m\u001b[0;34m=\u001b[0m\u001b[0mlevel\u001b[0m\u001b[0;34m,\u001b[0m \u001b[0merrors\u001b[0m\u001b[0;34m=\u001b[0m\u001b[0merrors\u001b[0m\u001b[0;34m)\u001b[0m\u001b[0;34m\u001b[0m\u001b[0;34m\u001b[0m\u001b[0m\n\u001b[1;32m   4545\u001b[0m             \u001b[0;32melse\u001b[0m\u001b[0;34m:\u001b[0m\u001b[0;34m\u001b[0m\u001b[0;34m\u001b[0m\u001b[0m\n\u001b[0;32m-> 4546\u001b[0;31m                 \u001b[0mnew_axis\u001b[0m \u001b[0;34m=\u001b[0m \u001b[0maxis\u001b[0m\u001b[0;34m.\u001b[0m\u001b[0mdrop\u001b[0m\u001b[0;34m(\u001b[0m\u001b[0mlabels\u001b[0m\u001b[0;34m,\u001b[0m \u001b[0merrors\u001b[0m\u001b[0;34m=\u001b[0m\u001b[0merrors\u001b[0m\u001b[0;34m)\u001b[0m\u001b[0;34m\u001b[0m\u001b[0;34m\u001b[0m\u001b[0m\n\u001b[0m\u001b[1;32m   4547\u001b[0m             \u001b[0mindexer\u001b[0m \u001b[0;34m=\u001b[0m \u001b[0maxis\u001b[0m\u001b[0;34m.\u001b[0m\u001b[0mget_indexer\u001b[0m\u001b[0;34m(\u001b[0m\u001b[0mnew_axis\u001b[0m\u001b[0;34m)\u001b[0m\u001b[0;34m\u001b[0m\u001b[0;34m\u001b[0m\u001b[0m\n\u001b[1;32m   4548\u001b[0m \u001b[0;34m\u001b[0m\u001b[0m\n",
            "\u001b[0;32m/usr/local/lib/python3.10/dist-packages/pandas/core/indexes/base.py\u001b[0m in \u001b[0;36mdrop\u001b[0;34m(self, labels, errors)\u001b[0m\n\u001b[1;32m   6932\u001b[0m         \u001b[0;32mif\u001b[0m \u001b[0mmask\u001b[0m\u001b[0;34m.\u001b[0m\u001b[0many\u001b[0m\u001b[0;34m(\u001b[0m\u001b[0;34m)\u001b[0m\u001b[0;34m:\u001b[0m\u001b[0;34m\u001b[0m\u001b[0;34m\u001b[0m\u001b[0m\n\u001b[1;32m   6933\u001b[0m             \u001b[0;32mif\u001b[0m \u001b[0merrors\u001b[0m \u001b[0;34m!=\u001b[0m \u001b[0;34m\"ignore\"\u001b[0m\u001b[0;34m:\u001b[0m\u001b[0;34m\u001b[0m\u001b[0;34m\u001b[0m\u001b[0m\n\u001b[0;32m-> 6934\u001b[0;31m                 \u001b[0;32mraise\u001b[0m \u001b[0mKeyError\u001b[0m\u001b[0;34m(\u001b[0m\u001b[0;34mf\"{list(labels[mask])} not found in axis\"\u001b[0m\u001b[0;34m)\u001b[0m\u001b[0;34m\u001b[0m\u001b[0;34m\u001b[0m\u001b[0m\n\u001b[0m\u001b[1;32m   6935\u001b[0m             \u001b[0mindexer\u001b[0m \u001b[0;34m=\u001b[0m \u001b[0mindexer\u001b[0m\u001b[0;34m[\u001b[0m\u001b[0;34m~\u001b[0m\u001b[0mmask\u001b[0m\u001b[0;34m]\u001b[0m\u001b[0;34m\u001b[0m\u001b[0;34m\u001b[0m\u001b[0m\n\u001b[1;32m   6936\u001b[0m         \u001b[0;32mreturn\u001b[0m \u001b[0mself\u001b[0m\u001b[0;34m.\u001b[0m\u001b[0mdelete\u001b[0m\u001b[0;34m(\u001b[0m\u001b[0mindexer\u001b[0m\u001b[0;34m)\u001b[0m\u001b[0;34m\u001b[0m\u001b[0;34m\u001b[0m\u001b[0m\n",
            "\u001b[0;31mKeyError\u001b[0m: \"['color_mapping'] not found in axis\""
          ]
        }
      ]
    },
    {
      "cell_type": "code",
      "source": [
        "data.head(2)"
      ],
      "metadata": {
        "id": "-K4f1CVhcglA",
        "colab": {
          "base_uri": "https://localhost:8080/",
          "height": 112
        },
        "outputId": "0e082d2b-bc52-4db2-8871-b213558d167c"
      },
      "execution_count": 11,
      "outputs": [
        {
          "output_type": "execute_result",
          "data": {
            "text/plain": [
              "   carat      cut color clarity  depth  table  price     x     y     z  \\\n",
              "0   0.23    Ideal     E     SI2   61.5   55.0    326  3.95  3.98  2.43   \n",
              "1   0.21  Premium     E     SI1   59.8   61.0    326  3.89  3.84  2.31   \n",
              "\n",
              "   cut_numeric  clarity_numeric  color_numeric  \n",
              "0            5                2              6  \n",
              "1            4                3              6  "
            ],
            "text/html": [
              "\n",
              "  <div id=\"df-ef948cbd-8ead-4389-9a52-ea54cecdfb26\" class=\"colab-df-container\">\n",
              "    <div>\n",
              "<style scoped>\n",
              "    .dataframe tbody tr th:only-of-type {\n",
              "        vertical-align: middle;\n",
              "    }\n",
              "\n",
              "    .dataframe tbody tr th {\n",
              "        vertical-align: top;\n",
              "    }\n",
              "\n",
              "    .dataframe thead th {\n",
              "        text-align: right;\n",
              "    }\n",
              "</style>\n",
              "<table border=\"1\" class=\"dataframe\">\n",
              "  <thead>\n",
              "    <tr style=\"text-align: right;\">\n",
              "      <th></th>\n",
              "      <th>carat</th>\n",
              "      <th>cut</th>\n",
              "      <th>color</th>\n",
              "      <th>clarity</th>\n",
              "      <th>depth</th>\n",
              "      <th>table</th>\n",
              "      <th>price</th>\n",
              "      <th>x</th>\n",
              "      <th>y</th>\n",
              "      <th>z</th>\n",
              "      <th>cut_numeric</th>\n",
              "      <th>clarity_numeric</th>\n",
              "      <th>color_numeric</th>\n",
              "    </tr>\n",
              "  </thead>\n",
              "  <tbody>\n",
              "    <tr>\n",
              "      <th>0</th>\n",
              "      <td>0.23</td>\n",
              "      <td>Ideal</td>\n",
              "      <td>E</td>\n",
              "      <td>SI2</td>\n",
              "      <td>61.5</td>\n",
              "      <td>55.0</td>\n",
              "      <td>326</td>\n",
              "      <td>3.95</td>\n",
              "      <td>3.98</td>\n",
              "      <td>2.43</td>\n",
              "      <td>5</td>\n",
              "      <td>2</td>\n",
              "      <td>6</td>\n",
              "    </tr>\n",
              "    <tr>\n",
              "      <th>1</th>\n",
              "      <td>0.21</td>\n",
              "      <td>Premium</td>\n",
              "      <td>E</td>\n",
              "      <td>SI1</td>\n",
              "      <td>59.8</td>\n",
              "      <td>61.0</td>\n",
              "      <td>326</td>\n",
              "      <td>3.89</td>\n",
              "      <td>3.84</td>\n",
              "      <td>2.31</td>\n",
              "      <td>4</td>\n",
              "      <td>3</td>\n",
              "      <td>6</td>\n",
              "    </tr>\n",
              "  </tbody>\n",
              "</table>\n",
              "</div>\n",
              "    <div class=\"colab-df-buttons\">\n",
              "\n",
              "  <div class=\"colab-df-container\">\n",
              "    <button class=\"colab-df-convert\" onclick=\"convertToInteractive('df-ef948cbd-8ead-4389-9a52-ea54cecdfb26')\"\n",
              "            title=\"Convert this dataframe to an interactive table.\"\n",
              "            style=\"display:none;\">\n",
              "\n",
              "  <svg xmlns=\"http://www.w3.org/2000/svg\" height=\"24px\" viewBox=\"0 -960 960 960\">\n",
              "    <path d=\"M120-120v-720h720v720H120Zm60-500h600v-160H180v160Zm220 220h160v-160H400v160Zm0 220h160v-160H400v160ZM180-400h160v-160H180v160Zm440 0h160v-160H620v160ZM180-180h160v-160H180v160Zm440 0h160v-160H620v160Z\"/>\n",
              "  </svg>\n",
              "    </button>\n",
              "\n",
              "  <style>\n",
              "    .colab-df-container {\n",
              "      display:flex;\n",
              "      gap: 12px;\n",
              "    }\n",
              "\n",
              "    .colab-df-convert {\n",
              "      background-color: #E8F0FE;\n",
              "      border: none;\n",
              "      border-radius: 50%;\n",
              "      cursor: pointer;\n",
              "      display: none;\n",
              "      fill: #1967D2;\n",
              "      height: 32px;\n",
              "      padding: 0 0 0 0;\n",
              "      width: 32px;\n",
              "    }\n",
              "\n",
              "    .colab-df-convert:hover {\n",
              "      background-color: #E2EBFA;\n",
              "      box-shadow: 0px 1px 2px rgba(60, 64, 67, 0.3), 0px 1px 3px 1px rgba(60, 64, 67, 0.15);\n",
              "      fill: #174EA6;\n",
              "    }\n",
              "\n",
              "    .colab-df-buttons div {\n",
              "      margin-bottom: 4px;\n",
              "    }\n",
              "\n",
              "    [theme=dark] .colab-df-convert {\n",
              "      background-color: #3B4455;\n",
              "      fill: #D2E3FC;\n",
              "    }\n",
              "\n",
              "    [theme=dark] .colab-df-convert:hover {\n",
              "      background-color: #434B5C;\n",
              "      box-shadow: 0px 1px 3px 1px rgba(0, 0, 0, 0.15);\n",
              "      filter: drop-shadow(0px 1px 2px rgba(0, 0, 0, 0.3));\n",
              "      fill: #FFFFFF;\n",
              "    }\n",
              "  </style>\n",
              "\n",
              "    <script>\n",
              "      const buttonEl =\n",
              "        document.querySelector('#df-ef948cbd-8ead-4389-9a52-ea54cecdfb26 button.colab-df-convert');\n",
              "      buttonEl.style.display =\n",
              "        google.colab.kernel.accessAllowed ? 'block' : 'none';\n",
              "\n",
              "      async function convertToInteractive(key) {\n",
              "        const element = document.querySelector('#df-ef948cbd-8ead-4389-9a52-ea54cecdfb26');\n",
              "        const dataTable =\n",
              "          await google.colab.kernel.invokeFunction('convertToInteractive',\n",
              "                                                    [key], {});\n",
              "        if (!dataTable) return;\n",
              "\n",
              "        const docLinkHtml = 'Like what you see? Visit the ' +\n",
              "          '<a target=\"_blank\" href=https://colab.research.google.com/notebooks/data_table.ipynb>data table notebook</a>'\n",
              "          + ' to learn more about interactive tables.';\n",
              "        element.innerHTML = '';\n",
              "        dataTable['output_type'] = 'display_data';\n",
              "        await google.colab.output.renderOutput(dataTable, element);\n",
              "        const docLink = document.createElement('div');\n",
              "        docLink.innerHTML = docLinkHtml;\n",
              "        element.appendChild(docLink);\n",
              "      }\n",
              "    </script>\n",
              "  </div>\n",
              "\n",
              "\n",
              "<div id=\"df-8a2016fa-4563-42b8-935d-53665f22cf1f\">\n",
              "  <button class=\"colab-df-quickchart\" onclick=\"quickchart('df-8a2016fa-4563-42b8-935d-53665f22cf1f')\"\n",
              "            title=\"Suggest charts\"\n",
              "            style=\"display:none;\">\n",
              "\n",
              "<svg xmlns=\"http://www.w3.org/2000/svg\" height=\"24px\"viewBox=\"0 0 24 24\"\n",
              "     width=\"24px\">\n",
              "    <g>\n",
              "        <path d=\"M19 3H5c-1.1 0-2 .9-2 2v14c0 1.1.9 2 2 2h14c1.1 0 2-.9 2-2V5c0-1.1-.9-2-2-2zM9 17H7v-7h2v7zm4 0h-2V7h2v10zm4 0h-2v-4h2v4z\"/>\n",
              "    </g>\n",
              "</svg>\n",
              "  </button>\n",
              "\n",
              "<style>\n",
              "  .colab-df-quickchart {\n",
              "      --bg-color: #E8F0FE;\n",
              "      --fill-color: #1967D2;\n",
              "      --hover-bg-color: #E2EBFA;\n",
              "      --hover-fill-color: #174EA6;\n",
              "      --disabled-fill-color: #AAA;\n",
              "      --disabled-bg-color: #DDD;\n",
              "  }\n",
              "\n",
              "  [theme=dark] .colab-df-quickchart {\n",
              "      --bg-color: #3B4455;\n",
              "      --fill-color: #D2E3FC;\n",
              "      --hover-bg-color: #434B5C;\n",
              "      --hover-fill-color: #FFFFFF;\n",
              "      --disabled-bg-color: #3B4455;\n",
              "      --disabled-fill-color: #666;\n",
              "  }\n",
              "\n",
              "  .colab-df-quickchart {\n",
              "    background-color: var(--bg-color);\n",
              "    border: none;\n",
              "    border-radius: 50%;\n",
              "    cursor: pointer;\n",
              "    display: none;\n",
              "    fill: var(--fill-color);\n",
              "    height: 32px;\n",
              "    padding: 0;\n",
              "    width: 32px;\n",
              "  }\n",
              "\n",
              "  .colab-df-quickchart:hover {\n",
              "    background-color: var(--hover-bg-color);\n",
              "    box-shadow: 0 1px 2px rgba(60, 64, 67, 0.3), 0 1px 3px 1px rgba(60, 64, 67, 0.15);\n",
              "    fill: var(--button-hover-fill-color);\n",
              "  }\n",
              "\n",
              "  .colab-df-quickchart-complete:disabled,\n",
              "  .colab-df-quickchart-complete:disabled:hover {\n",
              "    background-color: var(--disabled-bg-color);\n",
              "    fill: var(--disabled-fill-color);\n",
              "    box-shadow: none;\n",
              "  }\n",
              "\n",
              "  .colab-df-spinner {\n",
              "    border: 2px solid var(--fill-color);\n",
              "    border-color: transparent;\n",
              "    border-bottom-color: var(--fill-color);\n",
              "    animation:\n",
              "      spin 1s steps(1) infinite;\n",
              "  }\n",
              "\n",
              "  @keyframes spin {\n",
              "    0% {\n",
              "      border-color: transparent;\n",
              "      border-bottom-color: var(--fill-color);\n",
              "      border-left-color: var(--fill-color);\n",
              "    }\n",
              "    20% {\n",
              "      border-color: transparent;\n",
              "      border-left-color: var(--fill-color);\n",
              "      border-top-color: var(--fill-color);\n",
              "    }\n",
              "    30% {\n",
              "      border-color: transparent;\n",
              "      border-left-color: var(--fill-color);\n",
              "      border-top-color: var(--fill-color);\n",
              "      border-right-color: var(--fill-color);\n",
              "    }\n",
              "    40% {\n",
              "      border-color: transparent;\n",
              "      border-right-color: var(--fill-color);\n",
              "      border-top-color: var(--fill-color);\n",
              "    }\n",
              "    60% {\n",
              "      border-color: transparent;\n",
              "      border-right-color: var(--fill-color);\n",
              "    }\n",
              "    80% {\n",
              "      border-color: transparent;\n",
              "      border-right-color: var(--fill-color);\n",
              "      border-bottom-color: var(--fill-color);\n",
              "    }\n",
              "    90% {\n",
              "      border-color: transparent;\n",
              "      border-bottom-color: var(--fill-color);\n",
              "    }\n",
              "  }\n",
              "</style>\n",
              "\n",
              "  <script>\n",
              "    async function quickchart(key) {\n",
              "      const quickchartButtonEl =\n",
              "        document.querySelector('#' + key + ' button');\n",
              "      quickchartButtonEl.disabled = true;  // To prevent multiple clicks.\n",
              "      quickchartButtonEl.classList.add('colab-df-spinner');\n",
              "      try {\n",
              "        const charts = await google.colab.kernel.invokeFunction(\n",
              "            'suggestCharts', [key], {});\n",
              "      } catch (error) {\n",
              "        console.error('Error during call to suggestCharts:', error);\n",
              "      }\n",
              "      quickchartButtonEl.classList.remove('colab-df-spinner');\n",
              "      quickchartButtonEl.classList.add('colab-df-quickchart-complete');\n",
              "    }\n",
              "    (() => {\n",
              "      let quickchartButtonEl =\n",
              "        document.querySelector('#df-8a2016fa-4563-42b8-935d-53665f22cf1f button');\n",
              "      quickchartButtonEl.style.display =\n",
              "        google.colab.kernel.accessAllowed ? 'block' : 'none';\n",
              "    })();\n",
              "  </script>\n",
              "</div>\n",
              "\n",
              "    </div>\n",
              "  </div>\n"
            ]
          },
          "metadata": {},
          "execution_count": 11
        }
      ]
    },
    {
      "cell_type": "code",
      "source": [
        "df = data[['carat', 'depth', 'table', 'cut_numeric', 'clarity_numeric', 'color_numeric','price']]"
      ],
      "metadata": {
        "id": "RaZ51N2KcgiT"
      },
      "execution_count": 12,
      "outputs": []
    },
    {
      "cell_type": "code",
      "source": [
        "x = df[['carat', 'depth', 'table', 'cut_numeric', 'clarity_numeric', 'color_numeric']].values\n",
        "y = df['price'].values"
      ],
      "metadata": {
        "id": "z2oQFQqFgMj-"
      },
      "execution_count": 13,
      "outputs": []
    },
    {
      "cell_type": "code",
      "source": [
        "x_train, x_test, y_train, y_test = train_test_split(x, y, test_size = 0.10, random_state=30 )"
      ],
      "metadata": {
        "id": "O1RNKPAehQBK"
      },
      "execution_count": 14,
      "outputs": []
    },
    {
      "cell_type": "code",
      "source": [
        "model = Sequential()\n",
        "model.add(Dense(25, input_dim= x.shape[1], activation= 'relu'))\n",
        "model.add(Dense(10, activation= 'relu'))\n",
        "model.add(Dense(1))"
      ],
      "metadata": {
        "id": "-_onvwxTcgfL"
      },
      "execution_count": 15,
      "outputs": []
    },
    {
      "cell_type": "code",
      "source": [
        "model.compile(loss = 'mean_squared_error', optimizer = 'adam')"
      ],
      "metadata": {
        "id": "fhriIixKgMgh"
      },
      "execution_count": 16,
      "outputs": []
    },
    {
      "cell_type": "code",
      "source": [
        "monitor = EarlyStopping(monitor = 'val_loss', min_delta = 1e-3, patience = 5, verbose = 1, mode = 'auto', restore_best_weights = True)"
      ],
      "metadata": {
        "id": "mbFCB4A7gMdS"
      },
      "execution_count": 17,
      "outputs": []
    },
    {
      "cell_type": "code",
      "source": [
        "model.fit(x_train, y_train, validation_data = (x_test, y_test), callbacks = [monitor], verbose = 2, epochs = 10000 )"
      ],
      "metadata": {
        "id": "EsrZwKMZgMaP",
        "colab": {
          "base_uri": "https://localhost:8080/"
        },
        "outputId": "ba14082e-a7ca-4202-8495-2877e49f6c3d"
      },
      "execution_count": 18,
      "outputs": [
        {
          "output_type": "stream",
          "name": "stdout",
          "text": [
            "Epoch 1/10000\n",
            "1518/1518 - 6s - loss: 19598738.0000 - val_loss: 15699588.0000 - 6s/epoch - 4ms/step\n",
            "Epoch 2/10000\n",
            "1518/1518 - 5s - loss: 15445191.0000 - val_loss: 15050138.0000 - 5s/epoch - 3ms/step\n",
            "Epoch 3/10000\n",
            "1518/1518 - 5s - loss: 14552112.0000 - val_loss: 13887475.0000 - 5s/epoch - 3ms/step\n",
            "Epoch 4/10000\n",
            "1518/1518 - 3s - loss: 13139663.0000 - val_loss: 12213139.0000 - 3s/epoch - 2ms/step\n",
            "Epoch 5/10000\n",
            "1518/1518 - 3s - loss: 11313314.0000 - val_loss: 10276432.0000 - 3s/epoch - 2ms/step\n",
            "Epoch 6/10000\n",
            "1518/1518 - 2s - loss: 9341595.0000 - val_loss: 8259988.0000 - 2s/epoch - 2ms/step\n",
            "Epoch 7/10000\n",
            "1518/1518 - 2s - loss: 7133772.5000 - val_loss: 5861527.5000 - 2s/epoch - 1ms/step\n",
            "Epoch 8/10000\n",
            "1518/1518 - 2s - loss: 4646852.5000 - val_loss: 3422208.5000 - 2s/epoch - 1ms/step\n",
            "Epoch 9/10000\n",
            "1518/1518 - 3s - loss: 2612499.0000 - val_loss: 1938107.0000 - 3s/epoch - 2ms/step\n",
            "Epoch 10/10000\n",
            "1518/1518 - 3s - loss: 1588075.8750 - val_loss: 1364367.8750 - 3s/epoch - 2ms/step\n",
            "Epoch 11/10000\n",
            "1518/1518 - 2s - loss: 1230455.1250 - val_loss: 1197373.6250 - 2s/epoch - 2ms/step\n",
            "Epoch 12/10000\n",
            "1518/1518 - 2s - loss: 1130566.7500 - val_loss: 1168119.8750 - 2s/epoch - 1ms/step\n",
            "Epoch 13/10000\n",
            "1518/1518 - 2s - loss: 1103636.8750 - val_loss: 1154607.7500 - 2s/epoch - 2ms/step\n",
            "Epoch 14/10000\n",
            "1518/1518 - 2s - loss: 1095493.2500 - val_loss: 1172982.0000 - 2s/epoch - 2ms/step\n",
            "Epoch 15/10000\n",
            "1518/1518 - 4s - loss: 1090274.1250 - val_loss: 1147254.1250 - 4s/epoch - 2ms/step\n",
            "Epoch 16/10000\n",
            "1518/1518 - 2s - loss: 1087577.1250 - val_loss: 1153811.1250 - 2s/epoch - 2ms/step\n",
            "Epoch 17/10000\n",
            "1518/1518 - 2s - loss: 1086542.6250 - val_loss: 1147516.6250 - 2s/epoch - 1ms/step\n",
            "Epoch 18/10000\n",
            "1518/1518 - 2s - loss: 1087151.3750 - val_loss: 1142691.3750 - 2s/epoch - 1ms/step\n",
            "Epoch 19/10000\n",
            "1518/1518 - 2s - loss: 1084471.3750 - val_loss: 1150044.1250 - 2s/epoch - 1ms/step\n",
            "Epoch 20/10000\n",
            "1518/1518 - 3s - loss: 1083754.5000 - val_loss: 1142463.5000 - 3s/epoch - 2ms/step\n",
            "Epoch 21/10000\n",
            "1518/1518 - 3s - loss: 1084505.6250 - val_loss: 1141512.1250 - 3s/epoch - 2ms/step\n",
            "Epoch 22/10000\n",
            "1518/1518 - 2s - loss: 1083480.7500 - val_loss: 1141260.8750 - 2s/epoch - 2ms/step\n",
            "Epoch 23/10000\n",
            "1518/1518 - 2s - loss: 1084880.1250 - val_loss: 1167549.1250 - 2s/epoch - 1ms/step\n",
            "Epoch 24/10000\n",
            "1518/1518 - 2s - loss: 1085766.1250 - val_loss: 1141144.0000 - 2s/epoch - 2ms/step\n",
            "Epoch 25/10000\n",
            "1518/1518 - 3s - loss: 1082232.6250 - val_loss: 1196245.0000 - 3s/epoch - 2ms/step\n",
            "Epoch 26/10000\n",
            "1518/1518 - 4s - loss: 1084896.6250 - val_loss: 1202395.1250 - 4s/epoch - 3ms/step\n",
            "Epoch 27/10000\n",
            "1518/1518 - 2s - loss: 1084515.6250 - val_loss: 1172514.5000 - 2s/epoch - 1ms/step\n",
            "Epoch 28/10000\n",
            "1518/1518 - 2s - loss: 1084100.3750 - val_loss: 1140565.1250 - 2s/epoch - 1ms/step\n",
            "Epoch 29/10000\n",
            "1518/1518 - 2s - loss: 1081141.5000 - val_loss: 1140642.2500 - 2s/epoch - 2ms/step\n",
            "Epoch 30/10000\n",
            "1518/1518 - 3s - loss: 1084010.3750 - val_loss: 1141487.6250 - 3s/epoch - 2ms/step\n",
            "Epoch 31/10000\n",
            "1518/1518 - 3s - loss: 1080713.8750 - val_loss: 1195560.6250 - 3s/epoch - 2ms/step\n",
            "Epoch 32/10000\n",
            "1518/1518 - 2s - loss: 1081600.0000 - val_loss: 1139019.3750 - 2s/epoch - 2ms/step\n",
            "Epoch 33/10000\n",
            "1518/1518 - 2s - loss: 1081524.1250 - val_loss: 1140108.3750 - 2s/epoch - 2ms/step\n",
            "Epoch 34/10000\n",
            "1518/1518 - 2s - loss: 1080482.5000 - val_loss: 1138047.2500 - 2s/epoch - 2ms/step\n",
            "Epoch 35/10000\n",
            "1518/1518 - 3s - loss: 1081347.0000 - val_loss: 1137842.3750 - 3s/epoch - 2ms/step\n",
            "Epoch 36/10000\n",
            "1518/1518 - 3s - loss: 1083264.8750 - val_loss: 1139120.6250 - 3s/epoch - 2ms/step\n",
            "Epoch 37/10000\n",
            "1518/1518 - 2s - loss: 1078147.2500 - val_loss: 1139802.0000 - 2s/epoch - 2ms/step\n",
            "Epoch 38/10000\n",
            "1518/1518 - 2s - loss: 1080888.7500 - val_loss: 1141698.2500 - 2s/epoch - 2ms/step\n",
            "Epoch 39/10000\n",
            "1518/1518 - 2s - loss: 1081114.3750 - val_loss: 1136287.7500 - 2s/epoch - 1ms/step\n",
            "Epoch 40/10000\n",
            "1518/1518 - 2s - loss: 1077329.8750 - val_loss: 1206669.3750 - 2s/epoch - 1ms/step\n",
            "Epoch 41/10000\n",
            "1518/1518 - 4s - loss: 1081137.1250 - val_loss: 1151116.2500 - 4s/epoch - 2ms/step\n",
            "Epoch 42/10000\n",
            "1518/1518 - 3s - loss: 1078122.2500 - val_loss: 1135916.3750 - 3s/epoch - 2ms/step\n",
            "Epoch 43/10000\n",
            "1518/1518 - 2s - loss: 1077020.7500 - val_loss: 1143791.1250 - 2s/epoch - 2ms/step\n",
            "Epoch 44/10000\n",
            "1518/1518 - 3s - loss: 1076262.6250 - val_loss: 1134273.3750 - 3s/epoch - 2ms/step\n",
            "Epoch 45/10000\n",
            "1518/1518 - 3s - loss: 1076616.1250 - val_loss: 1138167.8750 - 3s/epoch - 2ms/step\n",
            "Epoch 46/10000\n",
            "1518/1518 - 3s - loss: 1074837.3750 - val_loss: 1186563.2500 - 3s/epoch - 2ms/step\n",
            "Epoch 47/10000\n",
            "1518/1518 - 2s - loss: 1073603.8750 - val_loss: 1134154.7500 - 2s/epoch - 2ms/step\n",
            "Epoch 48/10000\n",
            "1518/1518 - 2s - loss: 1074763.5000 - val_loss: 1131789.2500 - 2s/epoch - 1ms/step\n",
            "Epoch 49/10000\n",
            "1518/1518 - 2s - loss: 1072226.2500 - val_loss: 1164319.3750 - 2s/epoch - 2ms/step\n",
            "Epoch 50/10000\n",
            "1518/1518 - 2s - loss: 1072252.3750 - val_loss: 1138993.7500 - 2s/epoch - 2ms/step\n",
            "Epoch 51/10000\n",
            "1518/1518 - 3s - loss: 1071991.2500 - val_loss: 1136901.5000 - 3s/epoch - 2ms/step\n",
            "Epoch 52/10000\n",
            "1518/1518 - 2s - loss: 1069103.8750 - val_loss: 1212248.8750 - 2s/epoch - 1ms/step\n",
            "Epoch 53/10000\n",
            "1518/1518 - 2s - loss: 1070033.6250 - val_loss: 1129608.2500 - 2s/epoch - 2ms/step\n",
            "Epoch 54/10000\n",
            "1518/1518 - 2s - loss: 1068147.0000 - val_loss: 1132590.0000 - 2s/epoch - 1ms/step\n",
            "Epoch 55/10000\n",
            "1518/1518 - 2s - loss: 1066851.1250 - val_loss: 1138941.7500 - 2s/epoch - 1ms/step\n",
            "Epoch 56/10000\n",
            "1518/1518 - 3s - loss: 1066018.2500 - val_loss: 1125810.7500 - 3s/epoch - 2ms/step\n",
            "Epoch 57/10000\n",
            "1518/1518 - 2s - loss: 1064684.7500 - val_loss: 1145233.6250 - 2s/epoch - 2ms/step\n",
            "Epoch 58/10000\n",
            "1518/1518 - 2s - loss: 1065074.2500 - val_loss: 1138089.6250 - 2s/epoch - 2ms/step\n",
            "Epoch 59/10000\n",
            "1518/1518 - 2s - loss: 1062003.3750 - val_loss: 1125726.3750 - 2s/epoch - 1ms/step\n",
            "Epoch 60/10000\n",
            "1518/1518 - 2s - loss: 1058069.0000 - val_loss: 1127998.7500 - 2s/epoch - 2ms/step\n",
            "Epoch 61/10000\n",
            "1518/1518 - 3s - loss: 1053513.5000 - val_loss: 1112083.1250 - 3s/epoch - 2ms/step\n",
            "Epoch 62/10000\n",
            "1518/1518 - 3s - loss: 1047621.8125 - val_loss: 1109519.6250 - 3s/epoch - 2ms/step\n",
            "Epoch 63/10000\n",
            "1518/1518 - 2s - loss: 1038820.0625 - val_loss: 1093580.3750 - 2s/epoch - 2ms/step\n",
            "Epoch 64/10000\n",
            "1518/1518 - 2s - loss: 1024658.6875 - val_loss: 1081483.7500 - 2s/epoch - 2ms/step\n",
            "Epoch 65/10000\n",
            "1518/1518 - 2s - loss: 1007929.8750 - val_loss: 1096949.5000 - 2s/epoch - 2ms/step\n",
            "Epoch 66/10000\n",
            "1518/1518 - 3s - loss: 990611.1250 - val_loss: 1045369.3125 - 3s/epoch - 2ms/step\n",
            "Epoch 67/10000\n",
            "1518/1518 - 3s - loss: 971140.1875 - val_loss: 1035027.1875 - 3s/epoch - 2ms/step\n",
            "Epoch 68/10000\n",
            "1518/1518 - 3s - loss: 946904.0000 - val_loss: 1015307.6875 - 3s/epoch - 2ms/step\n",
            "Epoch 69/10000\n",
            "1518/1518 - 2s - loss: 922439.2500 - val_loss: 1006667.6250 - 2s/epoch - 2ms/step\n",
            "Epoch 70/10000\n",
            "1518/1518 - 2s - loss: 897675.8125 - val_loss: 964950.5625 - 2s/epoch - 1ms/step\n",
            "Epoch 71/10000\n",
            "1518/1518 - 2s - loss: 871557.6875 - val_loss: 975018.9375 - 2s/epoch - 2ms/step\n",
            "Epoch 72/10000\n",
            "1518/1518 - 3s - loss: 849737.7500 - val_loss: 914529.1875 - 3s/epoch - 2ms/step\n",
            "Epoch 73/10000\n",
            "1518/1518 - 2s - loss: 831679.6875 - val_loss: 902146.3750 - 2s/epoch - 2ms/step\n",
            "Epoch 74/10000\n",
            "1518/1518 - 2s - loss: 816539.2500 - val_loss: 900317.5625 - 2s/epoch - 2ms/step\n",
            "Epoch 75/10000\n",
            "1518/1518 - 2s - loss: 803270.1250 - val_loss: 906170.3125 - 2s/epoch - 2ms/step\n",
            "Epoch 76/10000\n",
            "1518/1518 - 2s - loss: 794289.3125 - val_loss: 871199.8750 - 2s/epoch - 2ms/step\n",
            "Epoch 77/10000\n",
            "1518/1518 - 3s - loss: 788012.5000 - val_loss: 887868.0000 - 3s/epoch - 2ms/step\n",
            "Epoch 78/10000\n",
            "1518/1518 - 2s - loss: 783123.6250 - val_loss: 862558.5625 - 2s/epoch - 2ms/step\n",
            "Epoch 79/10000\n",
            "1518/1518 - 2s - loss: 777839.8750 - val_loss: 858018.8125 - 2s/epoch - 1ms/step\n",
            "Epoch 80/10000\n",
            "1518/1518 - 2s - loss: 775292.0625 - val_loss: 866109.2500 - 2s/epoch - 1ms/step\n",
            "Epoch 81/10000\n",
            "1518/1518 - 2s - loss: 771877.3750 - val_loss: 855635.1250 - 2s/epoch - 1ms/step\n",
            "Epoch 82/10000\n",
            "1518/1518 - 3s - loss: 770842.3750 - val_loss: 849281.7500 - 3s/epoch - 2ms/step\n",
            "Epoch 83/10000\n",
            "1518/1518 - 3s - loss: 768379.0625 - val_loss: 852604.9375 - 3s/epoch - 2ms/step\n",
            "Epoch 84/10000\n",
            "1518/1518 - 2s - loss: 768037.3750 - val_loss: 846897.0625 - 2s/epoch - 2ms/step\n",
            "Epoch 85/10000\n",
            "1518/1518 - 2s - loss: 766325.7500 - val_loss: 850890.3750 - 2s/epoch - 2ms/step\n",
            "Epoch 86/10000\n",
            "1518/1518 - 2s - loss: 764848.0625 - val_loss: 848626.0625 - 2s/epoch - 2ms/step\n",
            "Epoch 87/10000\n",
            "1518/1518 - 3s - loss: 764167.4375 - val_loss: 843390.0625 - 3s/epoch - 2ms/step\n",
            "Epoch 88/10000\n",
            "1518/1518 - 3s - loss: 762665.3125 - val_loss: 849955.5000 - 3s/epoch - 2ms/step\n",
            "Epoch 89/10000\n",
            "1518/1518 - 2s - loss: 766061.9375 - val_loss: 864344.3750 - 2s/epoch - 1ms/step\n",
            "Epoch 90/10000\n",
            "1518/1518 - 2s - loss: 766447.9375 - val_loss: 842451.6875 - 2s/epoch - 2ms/step\n",
            "Epoch 91/10000\n",
            "1518/1518 - 2s - loss: 761080.9375 - val_loss: 859420.0000 - 2s/epoch - 2ms/step\n",
            "Epoch 92/10000\n",
            "1518/1518 - 3s - loss: 760621.9375 - val_loss: 843851.2500 - 3s/epoch - 2ms/step\n",
            "Epoch 93/10000\n",
            "1518/1518 - 3s - loss: 761796.8750 - val_loss: 841625.1875 - 3s/epoch - 2ms/step\n",
            "Epoch 94/10000\n",
            "1518/1518 - 2s - loss: 759383.1875 - val_loss: 839943.0000 - 2s/epoch - 2ms/step\n",
            "Epoch 95/10000\n",
            "1518/1518 - 2s - loss: 762095.6875 - val_loss: 836929.1875 - 2s/epoch - 2ms/step\n",
            "Epoch 96/10000\n",
            "1518/1518 - 2s - loss: 759584.0625 - val_loss: 859119.0000 - 2s/epoch - 2ms/step\n",
            "Epoch 97/10000\n",
            "1518/1518 - 3s - loss: 759251.3750 - val_loss: 877312.8750 - 3s/epoch - 2ms/step\n",
            "Epoch 98/10000\n",
            "1518/1518 - 3s - loss: 757909.2500 - val_loss: 835920.6875 - 3s/epoch - 2ms/step\n",
            "Epoch 99/10000\n",
            "1518/1518 - 2s - loss: 758569.2500 - val_loss: 842051.3750 - 2s/epoch - 1ms/step\n",
            "Epoch 100/10000\n",
            "1518/1518 - 2s - loss: 757009.5000 - val_loss: 842092.5625 - 2s/epoch - 2ms/step\n",
            "Epoch 101/10000\n",
            "1518/1518 - 2s - loss: 756292.9375 - val_loss: 835941.0000 - 2s/epoch - 1ms/step\n",
            "Epoch 102/10000\n",
            "1518/1518 - 2s - loss: 758056.1250 - val_loss: 830975.5000 - 2s/epoch - 1ms/step\n",
            "Epoch 103/10000\n",
            "1518/1518 - 3s - loss: 754961.3125 - val_loss: 835487.0000 - 3s/epoch - 2ms/step\n",
            "Epoch 104/10000\n",
            "1518/1518 - 2s - loss: 756234.9375 - val_loss: 833707.5000 - 2s/epoch - 2ms/step\n",
            "Epoch 105/10000\n",
            "1518/1518 - 2s - loss: 755871.0625 - val_loss: 830700.8125 - 2s/epoch - 2ms/step\n",
            "Epoch 106/10000\n",
            "1518/1518 - 2s - loss: 754086.4375 - val_loss: 870742.3750 - 2s/epoch - 1ms/step\n",
            "Epoch 107/10000\n",
            "1518/1518 - 2s - loss: 755226.6875 - val_loss: 831304.8750 - 2s/epoch - 2ms/step\n",
            "Epoch 108/10000\n",
            "1518/1518 - 3s - loss: 757126.3750 - val_loss: 832842.6875 - 3s/epoch - 2ms/step\n",
            "Epoch 109/10000\n",
            "1518/1518 - 3s - loss: 756381.3125 - val_loss: 839534.5000 - 3s/epoch - 2ms/step\n",
            "Epoch 110/10000\n",
            "Restoring model weights from the end of the best epoch: 105.\n",
            "1518/1518 - 2s - loss: 752462.6250 - val_loss: 868821.3750 - 2s/epoch - 2ms/step\n",
            "Epoch 110: early stopping\n"
          ]
        },
        {
          "output_type": "execute_result",
          "data": {
            "text/plain": [
              "<keras.src.callbacks.History at 0x7bdea804d300>"
            ]
          },
          "metadata": {},
          "execution_count": 18
        }
      ]
    },
    {
      "cell_type": "code",
      "source": [
        "prediction = model.predict(x_test)\n",
        "score = np.sqrt(metrics.mean_squared_error(prediction, y_test))\n",
        "print(f'After training the score is {score}')"
      ],
      "metadata": {
        "id": "WYzshifpgMXZ",
        "colab": {
          "base_uri": "https://localhost:8080/"
        },
        "outputId": "ad99b174-080f-42c7-d8ba-50850a2730f1"
      },
      "execution_count": 19,
      "outputs": [
        {
          "output_type": "stream",
          "name": "stdout",
          "text": [
            "169/169 [==============================] - 0s 1ms/step\n",
            "After training the score is 911.4279316460929\n"
          ]
        }
      ]
    },
    {
      "cell_type": "code",
      "source": [
        "col = [x for x in data.columns if x not in ('price', 'carat')]\n",
        "#col\n",
        "\n",
        "#Normal loop way\n",
        "print('{')\n",
        "for i, carat in enumerate(col):\n",
        "  print(f'\"{carat}\": {{\"min\": {data[carat].min()}, \"max\": {data[carat].max()}}}{\",\" if i < (len(col)-1) else \"\"}')\n",
        "print('}')"
      ],
      "metadata": {
        "id": "z-jL-kCKgMUb",
        "colab": {
          "base_uri": "https://localhost:8080/"
        },
        "outputId": "10bfe4b0-41bb-4a48-e538-55b067743c36"
      },
      "execution_count": 20,
      "outputs": [
        {
          "output_type": "stream",
          "name": "stdout",
          "text": [
            "{\n",
            "\"cut\": {\"min\": Fair, \"max\": Very Good},\n",
            "\"color\": {\"min\": D, \"max\": J},\n",
            "\"clarity\": {\"min\": I1, \"max\": VVS2},\n",
            "\"depth\": {\"min\": 43.0, \"max\": 79.0},\n",
            "\"table\": {\"min\": 43.0, \"max\": 95.0},\n",
            "\"x\": {\"min\": 0.0, \"max\": 10.74},\n",
            "\"y\": {\"min\": 0.0, \"max\": 58.9},\n",
            "\"z\": {\"min\": 0.0, \"max\": 31.8},\n",
            "\"cut_numeric\": {\"min\": 1, \"max\": 5},\n",
            "\"clarity_numeric\": {\"min\": 1, \"max\": 8},\n",
            "\"color_numeric\": {\"min\": 1, \"max\": 7}\n",
            "}\n"
          ]
        }
      ]
    },
    {
      "cell_type": "code",
      "source": [
        "model.save('tf_mdl_file.h5')"
      ],
      "metadata": {
        "id": "fnlJTkzcgMRQ",
        "colab": {
          "base_uri": "https://localhost:8080/"
        },
        "outputId": "1c96fd8c-3de6-4214-9bdd-765e36c0c887"
      },
      "execution_count": 21,
      "outputs": [
        {
          "output_type": "stream",
          "name": "stderr",
          "text": [
            "/usr/local/lib/python3.10/dist-packages/keras/src/engine/training.py:3103: UserWarning: You are saving your model as an HDF5 file via `model.save()`. This file format is considered legacy. We recommend using instead the native Keras format, e.g. `model.save('my_model.keras')`.\n",
            "  saving_api.save_model(\n"
          ]
        }
      ]
    },
    {
      "cell_type": "code",
      "source": [
        "model.summary()"
      ],
      "metadata": {
        "id": "xT_Z9DyjgMNu",
        "colab": {
          "base_uri": "https://localhost:8080/"
        },
        "outputId": "d2bd4f67-1d8d-4c27-d5ab-85b53580ef0a"
      },
      "execution_count": 22,
      "outputs": [
        {
          "output_type": "stream",
          "name": "stdout",
          "text": [
            "Model: \"sequential\"\n",
            "_________________________________________________________________\n",
            " Layer (type)                Output Shape              Param #   \n",
            "=================================================================\n",
            " dense (Dense)               (None, 25)                175       \n",
            "                                                                 \n",
            " dense_1 (Dense)             (None, 10)                260       \n",
            "                                                                 \n",
            " dense_2 (Dense)             (None, 1)                 11        \n",
            "                                                                 \n",
            "=================================================================\n",
            "Total params: 446 (1.74 KB)\n",
            "Trainable params: 446 (1.74 KB)\n",
            "Non-trainable params: 0 (0.00 Byte)\n",
            "_________________________________________________________________\n"
          ]
        }
      ]
    },
    {
      "cell_type": "code",
      "source": [
        "from keras.utils import plot_model\n",
        "plot_model(model, show_shapes = True)"
      ],
      "metadata": {
        "id": "VaMAPyrMehjZ",
        "colab": {
          "base_uri": "https://localhost:8080/",
          "height": 422
        },
        "outputId": "08130d60-d7ed-451c-f261-2a2446d4b93d"
      },
      "execution_count": 23,
      "outputs": [
        {
          "output_type": "execute_result",
          "data": {
            "image/png": "[encoded data removed]",
            "text/plain": [
              "<IPython.core.display.Image object>"
            ]
          },
          "metadata": {},
          "execution_count": 23
        }
      ]
    },
    {
      "cell_type": "code",
      "source": [
        "# test_x = np.zeros((1, 6)\n",
        "\n",
        "# test_x[0, 0] = 2.23     # carat\n",
        "# test_x[0, 1] = 61.5     # depth\n",
        "# test_x[0, 2] = 55.0     # table\n",
        "# test_x[0, 3] = 3        # cut_numeric\n",
        "# test_x[0, 4] = 6        # clarity_numeric\n",
        "# test_x[0, 5] = 5        # color_numeric\n",
        "# test_x\n",
        "\n",
        "test_x = np.zeros((1, 6))\n",
        "\n",
        "test_x[0, 0] = 2.75     # carat\n",
        "test_x[0, 1] = 55.3     # depth\n",
        "test_x[0, 2] = 52.1     # table\n",
        "test_x[0, 3] = 4        # cut_numeric\n",
        "test_x[0, 4] = 5        # clarity_numeric\n",
        "test_x[0, 5] = 5        # color_numeric\n",
        "test_x"
      ],
      "metadata": {
        "id": "WSOsGLuFehgH",
        "colab": {
          "base_uri": "https://localhost:8080/"
        },
        "outputId": "17387dcf-1c98-4101-8386-3ccc65dd59b0"
      },
      "execution_count": 24,
      "outputs": [
        {
          "output_type": "execute_result",
          "data": {
            "text/plain": [
              "array([[ 2.75, 55.3 , 52.1 ,  4.  ,  5.  ,  5.  ]])"
            ]
          },
          "metadata": {},
          "execution_count": 24
        }
      ]
    },
    {
      "cell_type": "code",
      "source": [
        "prediction = model.predict(test_x)\n",
        "round(int(prediction[0]), 2)"
      ],
      "metadata": {
        "id": "n_CRbOdCehca",
        "colab": {
          "base_uri": "https://localhost:8080/"
        },
        "outputId": "5dd9f29a-f1b7-4284-e5ed-3b5a028b91bf"
      },
      "execution_count": 25,
      "outputs": [
        {
          "output_type": "stream",
          "name": "stdout",
          "text": [
            "1/1 [==============================] - 0s 21ms/step\n"
          ]
        },
        {
          "output_type": "execute_result",
          "data": {
            "text/plain": [
              "28736"
            ]
          },
          "metadata": {},
          "execution_count": 25
        }
      ]
    },
    {
      "cell_type": "code",
      "source": [],
      "metadata": {
        "id": "FFdKBsfqehZV"
      },
      "execution_count": null,
      "outputs": []
    },
    {
      "cell_type": "code",
      "source": [],
      "metadata": {
        "id": "lfsVTBwPehWY"
      },
      "execution_count": null,
      "outputs": []
    },
    {
      "cell_type": "code",
      "source": [],
      "metadata": {
        "id": "1L5gvDOLehTP"
      },
      "execution_count": null,
      "outputs": []
    },
    {
      "cell_type": "code",
      "source": [],
      "metadata": {
        "id": "KemuSOEAehP9"
      },
      "execution_count": null,
      "outputs": []
    },
    {
      "cell_type": "code",
      "source": [],
      "metadata": {
        "id": "QzOHJ8G6ehLu"
      },
      "execution_count": null,
      "outputs": []
    },
    {
      "cell_type": "code",
      "source": [],
      "metadata": {
        "id": "3oOZdPh1ehHc"
      },
      "execution_count": null,
      "outputs": []
    },
    {
      "cell_type": "code",
      "source": [],
      "metadata": {
        "id": "F71YcUPzcgb4"
      },
      "execution_count": null,
      "outputs": []
    },
    {
      "cell_type": "code",
      "source": [],
      "metadata": {
        "id": "xJ49yZVacgSQ"
      },
      "execution_count": null,
      "outputs": []
    }
  ]
}