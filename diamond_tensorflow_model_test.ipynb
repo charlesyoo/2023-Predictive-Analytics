{
  "nbformat": 4,
  "nbformat_minor": 0,
  "metadata": {
    "colab": {
      "provenance": [],
      "mount_file_id": "1PUnmbyO8Xh8dYDliQWIrhBHnjXfNreDc",
      "authorship_tag": "ABX9TyPV06BTHVqzpjRsIOZ0R1Yq",
      "include_colab_link": true
    },
    "kernelspec": {
      "name": "python3",
      "display_name": "Python 3"
    },
    "language_info": {
      "name": "python"
    }
  },
  "cells": [
    {
      "cell_type": "markdown",
      "metadata": {
        "id": "view-in-github",
        "colab_type": "text"
      },
      "source": [
        "<a href=\"https://colab.research.google.com/github/charlesyoo/2023-Predictive-Analytics/blob/main/diamond_tensorflow_model_test.ipynb\" target=\"_parent\"><img src=\"https://colab.research.google.com/assets/colab-badge.svg\" alt=\"Open In Colab\"/></a>"
      ]
    },
    {
      "cell_type": "code",
      "execution_count": 94,
      "metadata": {
        "id": "zWqsb9ecAwNP"
      },
      "outputs": [],
      "source": [
        "import numpy as np\n",
        "import pickle\n",
        "from tensorflow.keras.models import load_model"
      ]
    },
    {
      "cell_type": "code",
      "source": [
        "\n",
        "\n",
        "model_path = '/content/drive/MyDrive/A Predictive Analytics Folder/Projects/Diamonds/my_model.keras'\n",
        "loaded_model = load_model(model_path)"
      ],
      "metadata": {
        "id": "ZXBwO52ztMWx"
      },
      "execution_count": 95,
      "outputs": []
    },
    {
      "cell_type": "code",
      "source": [
        "test_x = np.zeros((1, 6))\n",
        "test_x"
      ],
      "metadata": {
        "colab": {
          "base_uri": "https://localhost:8080/"
        },
        "id": "xvnsbVNXuIIr",
        "outputId": "2212c09a-6f05-44d0-925b-560f0939d90f"
      },
      "execution_count": 96,
      "outputs": [
        {
          "output_type": "execute_result",
          "data": {
            "text/plain": [
              "array([[0., 0., 0., 0., 0., 0.]])"
            ]
          },
          "metadata": {},
          "execution_count": 96
        }
      ]
    },
    {
      "cell_type": "code",
      "source": [
        "# test_x[0, 0] = 2.23     # carat\n",
        "# test_x[0, 1] = 61.5     # depth\n",
        "# test_x[0, 2] = 55.0     # table\n",
        "# test_x[0, 3] = 3        # cut_numeric\n",
        "# test_x[0, 4] = 6        # clarity_numeric\n",
        "# test_x[0, 5] = 5        # color_numeric\n",
        "# test_x\n",
        "\n",
        "test_x = np.zeros((1, 6))\n",
        "\n",
        "test_x[0, 0] = 1.57    # carat\n",
        "test_x[0, 1] = 49.3     # depth\n",
        "test_x[0, 2] = 65.3     # table\n",
        "test_x[0, 3] = 3        # cut_numeric\n",
        "test_x[0, 4] = 2        # clarity_numeric\n",
        "test_x[0, 5] = 5        # color_numeric\n",
        "test_x"
      ],
      "metadata": {
        "colab": {
          "base_uri": "https://localhost:8080/"
        },
        "id": "KRvTZWRFx3qv",
        "outputId": "ea2e6ae1-a685-4a5f-e689-e703eb42201f"
      },
      "execution_count": 97,
      "outputs": [
        {
          "output_type": "execute_result",
          "data": {
            "text/plain": [
              "array([[ 1.57, 49.3 , 65.3 ,  3.  ,  2.  ,  5.  ]])"
            ]
          },
          "metadata": {},
          "execution_count": 97
        }
      ]
    },
    {
      "cell_type": "code",
      "source": [
        "prediction = loaded_model.predict(test_x)"
      ],
      "metadata": {
        "colab": {
          "base_uri": "https://localhost:8080/"
        },
        "id": "HTg2aG85Up-O",
        "outputId": "92031817-c6a7-4b26-dc52-8f29edeaf108"
      },
      "execution_count": 98,
      "outputs": [
        {
          "output_type": "stream",
          "name": "stdout",
          "text": [
            "1/1 [==============================] - 0s 59ms/step\n"
          ]
        }
      ]
    },
    {
      "cell_type": "code",
      "source": [
        "rounded_prediction = round(float(prediction[0]), 2)"
      ],
      "metadata": {
        "id": "-dMWRFV-cPBt"
      },
      "execution_count": 99,
      "outputs": []
    },
    {
      "cell_type": "code",
      "source": [
        "print(rounded_prediction)"
      ],
      "metadata": {
        "colab": {
          "base_uri": "https://localhost:8080/"
        },
        "id": "rnzFXHexcR-S",
        "outputId": "2ada57c9-6f61-4681-efcf-278075def3cc"
      },
      "execution_count": 100,
      "outputs": [
        {
          "output_type": "stream",
          "name": "stdout",
          "text": [
            "10947.5\n"
          ]
        }
      ]
    },
    {
      "cell_type": "code",
      "source": [
        "features = { 'carat': test_x[0,0], 'depth': test_x[0,1], 'table': test_x[0,2], 'cut_numeric': test_x[0,3], 'clarity_numeric': test_x[0,4], 'color_numeric': test_x[0,5] }"
      ],
      "metadata": {
        "id": "GTmW12ijuJMb"
      },
      "execution_count": 101,
      "outputs": []
    },
    {
      "cell_type": "code",
      "source": [
        "features"
      ],
      "metadata": {
        "colab": {
          "base_uri": "https://localhost:8080/"
        },
        "id": "8Rg0OvYwuJI1",
        "outputId": "8f7faf44-beef-4769-dcf2-c75796a67d12"
      },
      "execution_count": 102,
      "outputs": [
        {
          "output_type": "execute_result",
          "data": {
            "text/plain": [
              "{'carat': 1.57,\n",
              " 'depth': 49.3,\n",
              " 'table': 65.3,\n",
              " 'cut_numeric': 3.0,\n",
              " 'clarity_numeric': 2.0,\n",
              " 'color_numeric': 5.0}"
            ]
          },
          "metadata": {},
          "execution_count": 102
        }
      ]
    },
    {
      "cell_type": "code",
      "source": [
        "print(f'The model predicts that the price is around {round(int(prediction[0]), 2)} given the features {features} ')"
      ],
      "metadata": {
        "colab": {
          "base_uri": "https://localhost:8080/"
        },
        "id": "K6qeEmbeuJFC",
        "outputId": "63c06198-582c-422f-d7ba-4270996ca04d"
      },
      "execution_count": 103,
      "outputs": [
        {
          "output_type": "stream",
          "name": "stdout",
          "text": [
            "The model predicts that the price is around 10947 given the features {'carat': 1.57, 'depth': 49.3, 'table': 65.3, 'cut_numeric': 3.0, 'clarity_numeric': 2.0, 'color_numeric': 5.0} \n"
          ]
        }
      ]
    }
  ]
}