{
  "nbformat": 4,
  "nbformat_minor": 0,
  "metadata": {
    "colab": {
      "provenance": [],
      "mount_file_id": "1qY4lezgyTgW3_Nz9C_fZsx5dzYHWAkDJ",
      "authorship_tag": "ABX9TyPHY+cnWBBULdIrpGyQLWii",
      "include_colab_link": true
    },
    "kernelspec": {
      "name": "python3",
      "display_name": "Python 3"
    },
    "language_info": {
      "name": "python"
    }
  },
  "cells": [
    {
      "cell_type": "markdown",
      "metadata": {
        "id": "view-in-github",
        "colab_type": "text"
      },
      "source": [
        "<a href=\"https://colab.research.google.com/github/charlesyoo/2023-Predictive-Analytics/blob/main/diamond_rgb_model_test.ipynb\" target=\"_parent\"><img src=\"https://colab.research.google.com/assets/colab-badge.svg\" alt=\"Open In Colab\"/></a>"
      ]
    },
    {
      "cell_type": "code",
      "execution_count": 1,
      "metadata": {
        "id": "zWqsb9ecAwNP"
      },
      "outputs": [],
      "source": [
        "import numpy as np\n",
        "import pickle"
      ]
    },
    {
      "cell_type": "code",
      "source": [
        "model = '/content/drive/MyDrive/A Predictive Analytics Folder/Projects/Diamonds/XGB_mdl_file'"
      ],
      "metadata": {
        "id": "ZXBwO52ztMWx"
      },
      "execution_count": 2,
      "outputs": []
    },
    {
      "cell_type": "code",
      "source": [
        "with open(model, 'rb') as file:\n",
        "  model = pickle.load(file)"
      ],
      "metadata": {
        "id": "gRKPOoLLt4ej"
      },
      "execution_count": 3,
      "outputs": []
    },
    {
      "cell_type": "code",
      "source": [
        "test_x = np.zeros((1, 6))\n",
        "test_x"
      ],
      "metadata": {
        "colab": {
          "base_uri": "https://localhost:8080/"
        },
        "id": "xvnsbVNXuIIr",
        "outputId": "713cc113-ee30-443b-c946-f60fb5f4eff5"
      },
      "execution_count": 4,
      "outputs": [
        {
          "output_type": "execute_result",
          "data": {
            "text/plain": [
              "array([[0., 0., 0., 0., 0., 0.]])"
            ]
          },
          "metadata": {},
          "execution_count": 4
        }
      ]
    },
    {
      "cell_type": "code",
      "source": [
        "# test_x[0, 0] = 2.23     # carat\n",
        "# test_x[0, 1] = 61.5     # depth\n",
        "# test_x[0, 2] = 55.0     # table\n",
        "# test_x[0, 3] = 3        # cut_numeric\n",
        "# test_x[0, 4] = 6        # clarity_numeric\n",
        "# test_x[0, 5] = 5        # color_numeric\n",
        "# test_x\n",
        "\n",
        "test_x = np.zeros((1, 6))\n",
        "\n",
        "test_x[0, 0] = 1.57    # carat\n",
        "test_x[0, 1] = 49.3     # depth\n",
        "test_x[0, 2] = 65.3     # table\n",
        "test_x[0, 3] = 3        # cut_numeric\n",
        "test_x[0, 4] = 2        # clarity_numeric\n",
        "test_x[0, 5] = 5        # color_numeric\n",
        "test_x"
      ],
      "metadata": {
        "colab": {
          "base_uri": "https://localhost:8080/"
        },
        "id": "KRvTZWRFx3qv",
        "outputId": "0d0ad812-af6c-4363-eb14-13f991b3102c"
      },
      "execution_count": 5,
      "outputs": [
        {
          "output_type": "execute_result",
          "data": {
            "text/plain": [
              "array([[ 1.57, 49.3 , 65.3 ,  3.  ,  2.  ,  5.  ]])"
            ]
          },
          "metadata": {},
          "execution_count": 5
        }
      ]
    },
    {
      "cell_type": "code",
      "source": [
        "prediction = model.predict(test_x)\n",
        "round(int(prediction[0]), 2)"
      ],
      "metadata": {
        "colab": {
          "base_uri": "https://localhost:8080/"
        },
        "id": "o6KYpe0euJVG",
        "outputId": "7eee9d8f-a9d1-4ff1-d9d2-a7eea5b571ed"
      },
      "execution_count": 6,
      "outputs": [
        {
          "output_type": "execute_result",
          "data": {
            "text/plain": [
              "9585"
            ]
          },
          "metadata": {},
          "execution_count": 6
        }
      ]
    },
    {
      "cell_type": "code",
      "source": [
        "features = { 'carat': test_x[0,0], 'depth': test_x[0,1], 'table': test_x[0,2], 'cut_numeric': test_x[0,3], 'clarity_numeric': test_x[0,4], 'color_numeric': test_x[0,5] }"
      ],
      "metadata": {
        "id": "GTmW12ijuJMb"
      },
      "execution_count": 7,
      "outputs": []
    },
    {
      "cell_type": "code",
      "source": [
        "features"
      ],
      "metadata": {
        "colab": {
          "base_uri": "https://localhost:8080/"
        },
        "id": "8Rg0OvYwuJI1",
        "outputId": "3ca7ef33-5bf7-4f72-8ccf-c077e870cb09"
      },
      "execution_count": 8,
      "outputs": [
        {
          "output_type": "execute_result",
          "data": {
            "text/plain": [
              "{'carat': 1.57,\n",
              " 'depth': 49.3,\n",
              " 'table': 65.3,\n",
              " 'cut_numeric': 3.0,\n",
              " 'clarity_numeric': 2.0,\n",
              " 'color_numeric': 5.0}"
            ]
          },
          "metadata": {},
          "execution_count": 8
        }
      ]
    },
    {
      "cell_type": "code",
      "source": [
        "print(f'The model predicts that the price is around {round(int(prediction[0]), 2)} given the features {features} ')"
      ],
      "metadata": {
        "colab": {
          "base_uri": "https://localhost:8080/"
        },
        "id": "K6qeEmbeuJFC",
        "outputId": "08303097-0b45-4723-80bf-73b8d78629e4"
      },
      "execution_count": 9,
      "outputs": [
        {
          "output_type": "stream",
          "name": "stdout",
          "text": [
            "The model predicts that the price is around 9585 given the features {'carat': 1.57, 'depth': 49.3, 'table': 65.3, 'cut_numeric': 3.0, 'clarity_numeric': 2.0, 'color_numeric': 5.0} \n"
          ]
        }
      ]
    },
    {
      "cell_type": "code",
      "source": [],
      "metadata": {
        "id": "CeiFNGQ9uJBr"
      },
      "execution_count": 9,
      "outputs": []
    },
    {
      "cell_type": "code",
      "source": [],
      "metadata": {
        "id": "8JF9Db8ruI-k"
      },
      "execution_count": 9,
      "outputs": []
    },
    {
      "cell_type": "code",
      "source": [],
      "metadata": {
        "id": "7L3TSCaUuI7F"
      },
      "execution_count": 9,
      "outputs": []
    },
    {
      "cell_type": "code",
      "source": [],
      "metadata": {
        "id": "aUXUk7dCuIvl"
      },
      "execution_count": 9,
      "outputs": []
    }
  ]
}